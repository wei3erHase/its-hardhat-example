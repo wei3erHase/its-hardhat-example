{
 "cells": [
  {
   "cell_type": "code",
   "execution_count": null,
   "metadata": {},
   "outputs": [],
   "source": [
    "const { ethers } = require(\"hardhat\");"
   ]
  },
  {
   "cell_type": "code",
   "execution_count": null,
   "metadata": {},
   "outputs": [],
   "source": [
    "ethers."
   ]
  },
  {
   "cell_type": "code",
   "execution_count": 2,
   "metadata": {},
   "outputs": [
    {
     "data": {
      "text/plain": [
       "FallbackProvider {\n",
       "  _isProvider: true,\n",
       "  _events: [],\n",
       "  _emitted: { block: -2 },\n",
       "  formatter: Formatter {\n",
       "    formats: {\n",
       "      transaction: [Object],\n",
       "      transactionRequest: [Object],\n",
       "      receiptLog: [Object],\n",
       "      receipt: [Object],\n",
       "      block: [Object],\n",
       "      blockWithTransactions: [Object],\n",
       "      filter: [Object],\n",
       "      filterLog: [Object]\n",
       "    }\n",
       "  },\n",
       "  anyNetwork: false,\n",
       "  _network: {\n",
       "    name: 'homestead',\n",
       "    chainId: 1,\n",
       "    ensAddress: '0x00000000000C2E074eC69A0dFb2997BA6C7d2e1e',\n",
       "    _defaultProvider: [Function: func] { renetwork: [Function (anonymous)] }\n",
       "  },\n",
       "  _maxInternalBlockNumber: -1024,\n",
       "  _lastBlockNumber: -2,\n",
       "  _pollingInterval: 4000,\n",
       "  _fastQueryDate: 0,\n",
       "  providerConfigs: [\n",
       "    {\n",
       "      provider: [InfuraProvider],\n",
       "      weight: 1,\n",
       "      stallTimeout: 2000,\n",
       "      priority: 1\n",
       "    },\n",
       "    {\n",
       "      provider: [EtherscanProvider],\n",
       "      weight: 1,\n",
       "      stallTimeout: 2000,\n",
       "      priority: 1\n",
       "    },\n",
       "    {\n",
       "      provider: [AlchemyProvider],\n",
       "      weight: 1,\n",
       "      stallTimeout: 2000,\n",
       "      priority: 1\n",
       "    },\n",
       "    {\n",
       "      provider: [PocketProvider],\n",
       "      weight: 1,\n",
       "      stallTimeout: 2000,\n",
       "      priority: 1\n",
       "    },\n",
       "    {\n",
       "      provider: [CloudflareProvider],\n",
       "      weight: 1,\n",
       "      stallTimeout: 750,\n",
       "      priority: 1\n",
       "    }\n",
       "  ],\n",
       "  quorum: 2,\n",
       "  _highestBlockNumber: -1\n",
       "}"
      ]
     },
     "execution_count": 2,
     "metadata": {},
     "output_type": "execute_result"
    }
   ],
   "source": [
    "ethers.getDefaultProvider()"
   ]
  },
  {
   "cell_type": "code",
   "execution_count": null,
   "metadata": {},
   "outputs": [],
   "source": []
  }
 ],
 "metadata": {
  "kernelspec": {
   "display_name": "TypeScript",
   "language": "typescript",
   "name": "tslab"
  },
  "language_info": {
   "codemirror_mode": {
    "mode": "typescript",
    "name": "javascript",
    "typescript": true
   },
   "file_extension": ".ts",
   "mimetype": "text/typescript",
   "name": "typescript",
   "version": "3.7.2"
  }
 },
 "nbformat": 4,
 "nbformat_minor": 4
}
